{
 "cells": [
  {
   "cell_type": "code",
   "execution_count": 1,
   "id": "3b5e2a23",
   "metadata": {
    "scrolled": true
   },
   "outputs": [
    {
     "name": "stdout",
     "output_type": "stream",
     "text": [
      "Collecting aspose.words\n",
      "  Using cached aspose_words-23.3.0-py3-none-win_amd64.whl (62.4 MB)\n",
      "Installing collected packages: aspose.words\n",
      "Successfully installed aspose.words-23.3.0\n",
      "Note: you may need to restart the kernel to use updated packages.\n"
     ]
    }
   ],
   "source": [
    "pip  install aspose.words"
   ]
  },
  {
   "cell_type": "code",
   "execution_count": 2,
   "id": "fa25b357",
   "metadata": {},
   "outputs": [
    {
     "data": {
      "text/plain": [
       "<aspose.words.saving.SaveOutputParameters object at 0x0000027DB2A99D30>"
      ]
     },
     "execution_count": 2,
     "metadata": {},
     "output_type": "execute_result"
    }
   ],
   "source": [
    "import aspose.words as aw\n",
    "\n",
    "doc = aw.Document(\"trial.pdf\")\n",
    "doc.save(\"Output.docx\")"
   ]
  },
  {
   "cell_type": "code",
   "execution_count": 1,
   "id": "dbcb64ce",
   "metadata": {},
   "outputs": [
    {
     "name": "stdout",
     "output_type": "stream",
     "text": [
      "Requirement already satisfied: pypdf in c:\\users\\kanna\\anaconda3\\lib\\site-packages (3.5.2)\n",
      "Requirement already satisfied: typing_extensions>=3.10.0.0 in c:\\users\\kanna\\anaconda3\\lib\\site-packages (from pypdf) (4.3.0)\n",
      "Note: you may need to restart the kernel to use updated packages.\n"
     ]
    }
   ],
   "source": [
    "pip install pypdf"
   ]
  },
  {
   "cell_type": "code",
   "execution_count": 3,
   "id": "9b8c007c",
   "metadata": {},
   "outputs": [
    {
     "name": "stdout",
     "output_type": "stream",
     "text": [
      "Requirement already satisfied: python-docx in c:\\users\\kanna\\anaconda3\\lib\\site-packages (0.8.11)\n",
      "Requirement already satisfied: lxml>=2.3.2 in c:\\users\\kanna\\anaconda3\\lib\\site-packages (from python-docx) (4.9.1)\n",
      "Note: you may need to restart the kernel to use updated packages.\n"
     ]
    }
   ],
   "source": [
    "pip install python-docx"
   ]
  },
  {
   "cell_type": "code",
   "execution_count": 2,
   "id": "5475b093",
   "metadata": {},
   "outputs": [
    {
     "name": "stdout",
     "output_type": "stream",
     "text": [
      "S.Y. B. Tech. Academic Year 2022-23 Semester: IV\n",
      "Advanced Data Structures\n",
      " LABORATORY WRITE UP\n",
      "Experiment Number: 05\n",
      "TITLE:   Graph and DFS & BFS Traversal \n",
      "PROBLEM STATEMENT : \n",
      "Consider a friend’s network on Facebook social web site. Model it as a graph to represent each \n",
      "node as a user and a link to represent the friend relationship between them using adjacency list \n",
      "representation and perform DFS & BFS traversals.\n",
      "OBJECTIVE:  \n",
      "1. To study data structure Graph and its representation using adjacency list \n",
      "2.To study and implement recursive Depth First Traversal and use of stack data \n",
      "structure  for recursive Depth First Traversal  \n",
      "3.To study and implement Breadth First Traversal\n",
      "4.To study how graph can be used to model real world problems\n",
      "THEORY:  //To be Written by Students\n",
      "// Write theory by elaborating below points\n",
      "Write in brief about      \n",
      "Graph and its types  (with diagrams)  \n",
      "Representation of graph using adjacency list with one example and diagram.\n",
      "Graph Traversals DFT and BFT with example and diagrams\n",
      "IMPLEMENTATION:\n",
      "●PLATFORM: CET2001B\n"
     ]
    }
   ],
   "source": [
    "from pypdf import PdfReader\n",
    "\n",
    "reader = PdfReader(\"trial.pdf\")\n",
    "page = reader.pages[0]\n",
    "text = page.extract_text()\n",
    "print(text)"
   ]
  },
  {
   "cell_type": "code",
   "execution_count": 5,
   "id": "c4589204",
   "metadata": {},
   "outputs": [
    {
     "data": {
      "text/plain": [
       "<docx.text.paragraph.Paragraph at 0x258ae4d5190>"
      ]
     },
     "execution_count": 5,
     "metadata": {},
     "output_type": "execute_result"
    }
   ],
   "source": [
    "import docx\n",
    " \n",
    "#To create the file\n",
    "doc = docx.Document()\n",
    "\n",
    "doc.add_paragraph(text)"
   ]
  }
 ],
 "metadata": {
  "kernelspec": {
   "display_name": "Python 3 (ipykernel)",
   "language": "python",
   "name": "python3"
  },
  "language_info": {
   "codemirror_mode": {
    "name": "ipython",
    "version": 3
   },
   "file_extension": ".py",
   "mimetype": "text/x-python",
   "name": "python",
   "nbconvert_exporter": "python",
   "pygments_lexer": "ipython3",
   "version": "3.9.13"
  }
 },
 "nbformat": 4,
 "nbformat_minor": 5
}
