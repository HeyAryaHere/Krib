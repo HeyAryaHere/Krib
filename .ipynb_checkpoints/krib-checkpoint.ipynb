{
 "cells": [
  {
   "cell_type": "code",
   "execution_count": 1,
   "id": "161d27bc",
   "metadata": {
    "scrolled": true
   },
   "outputs": [
    {
     "name": "stdout",
     "output_type": "stream",
     "text": [
      "S.Y. B. Tech. Academic Year 2022-23 Semester: IV\n",
      "Advanced Data Structures\n",
      " LABORATORY WRITE UP\n",
      "Experiment Number: 05\n",
      "TITLE:   Graph and DFS & BFS Traversal \n",
      "PROBLEM STATEMENT : \n",
      "Consider a friend’s network on Facebook social web site. Model it as a graph to represent each \n",
      "node as a user and a link to represent the friend relationship between them using adjacency list \n",
      "representation and perform DFS & BFS traversals.\n",
      "OBJECTIVE:  \n",
      "1. To study data structure Graph and its representation using adjacency list \n",
      "2.To study and implement recursive Depth First Traversal and use of stack data \n",
      "structure  for recursive Depth First Traversal  \n",
      "3.To study and implement Breadth First Traversal\n",
      "4.To study how graph can be used to model real world problems\n",
      "THEORY:  //To be Written by Students\n",
      "// Write theory by elaborating below points\n",
      "Write in brief about      \n",
      "Graph and its types  (with diagrams)  \n",
      "Representation of graph using adjacency list with one example and diagram.\n",
      "Graph Traversals DFT and BFT with example and diagrams\n",
      "IMPLEMENTATION:\n",
      "●PLATFORM: CET2001B\n"
     ]
    }
   ],
   "source": [
    "from pypdf import PdfReader\n",
    "\n",
    "reader = PdfReader(\"trial.pdf\")\n",
    "page = reader.pages[0]\n",
    "text = page.extract_text()\n",
    "print(text)"
   ]
  }
 ],
 "metadata": {
  "kernelspec": {
   "display_name": "Python 3 (ipykernel)",
   "language": "python",
   "name": "python3"
  },
  "language_info": {
   "codemirror_mode": {
    "name": "ipython",
    "version": 3
   },
   "file_extension": ".py",
   "mimetype": "text/x-python",
   "name": "python",
   "nbconvert_exporter": "python",
   "pygments_lexer": "ipython3",
   "version": "3.9.13"
  }
 },
 "nbformat": 4,
 "nbformat_minor": 5
}
